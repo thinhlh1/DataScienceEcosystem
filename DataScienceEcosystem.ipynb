{
 "cells": [
  {
   "cell_type": "markdown",
   "id": "ce8253e0-4f79-4e37-aaaf-a256c1a406ee",
   "metadata": {},
   "source": [
    "# Data Science Tools and Ecosystem"
   ]
  },
  {
   "cell_type": "markdown",
   "id": "bd01e59a-c3c8-4b0c-8b81-fa0f019ee787",
   "metadata": {},
   "source": [
    "In this notebook, Data Science Tools and Ecosystem are summarized."
   ]
  },
  {
   "cell_type": "markdown",
   "id": "fc6960a9-bcc5-4870-8763-fd45ddc7b591",
   "metadata": {},
   "source": [
    "**Objectives:**\n",
    "\n",
    "- Describe the components of a Data Scientist's toolkit and list various tool categories\r",
    "- \n",
    "List examples of open-source tools used in data sciene\n",
    "-  Describe the relevant features of open-source too\n",
    "-  List examples of commercial and cloud-based data science tols."
   ]
  },
  {
   "cell_type": "markdown",
   "id": "26b8430b-1008-4dcc-816c-661eb0cf6d98",
   "metadata": {},
   "source": [
    "Some of the popular languages that Data Scientists use are:\n",
    "1. Python\n",
    "2. R\n",
    "3. SQL\n",
    "4. Scala\n",
    "5. Java"
   ]
  },
  {
   "cell_type": "markdown",
   "id": "778021b2-440b-4028-958d-57101c8693d9",
   "metadata": {
    "jp-MarkdownHeadingCollapsed": true
   },
   "source": [
    "Some of the commonly used libraries used by Data Scientists include:\n",
    "1. Pandas\n",
    "2. NumPy\n",
    "3. Matplotlib\n",
    "4. Seaborn\n",
    "5. Scikit-learn\n",
    "  "
   ]
  },
  {
   "cell_type": "markdown",
   "id": "9fd01ef5-a38c-4a4a-97fa-1fe0355b9371",
   "metadata": {},
   "source": [
    "|Data Science Tools|\n",
    "|------------------|\n",
    "|Jupyter Notebook  |\n",
    "|RStudio           |\n",
    "|GitHub            |\n"
   ]
  },
  {
   "cell_type": "markdown",
   "id": "1ebdddf8-9f1c-4d09-9e31-70d0b3a8896e",
   "metadata": {},
   "source": [
    "### Below are a few examples of evaluating arithmetic expressions in Python"
   ]
  },
  {
   "cell_type": "code",
   "execution_count": 7,
   "id": "790bf51e-1b6f-48a9-a653-db9844d858a6",
   "metadata": {},
   "outputs": [
    {
     "data": {
      "text/plain": [
       "17"
      ]
     },
     "execution_count": 7,
     "metadata": {},
     "output_type": "execute_result"
    }
   ],
   "source": [
    "# This a simple arithmetic expression to mutiply then add integers\n",
    "(3*4)+5"
   ]
  },
  {
   "cell_type": "code",
   "execution_count": 8,
   "id": "4eb1cfe5-4afa-4bdd-8f9b-3980e9d9307f",
   "metadata": {},
   "outputs": [
    {
     "data": {
      "text/plain": [
       "3.3333333333333335"
      ]
     },
     "execution_count": 8,
     "metadata": {},
     "output_type": "execute_result"
    }
   ],
   "source": [
    "# This will convert 200 minutes to hours by diving by 60\n",
    "200/60"
   ]
  },
  {
   "cell_type": "markdown",
   "id": "7193e433-2804-4a09-a354-a83b60a5ced2",
   "metadata": {},
   "source": [
    "## Author\n",
    "Thinh Le"
   ]
  }
 ],
 "metadata": {
  "kernelspec": {
   "display_name": "Python 3 (ipykernel)",
   "language": "python",
   "name": "python3"
  },
  "language_info": {
   "codemirror_mode": {
    "name": "ipython",
    "version": 3
   },
   "file_extension": ".py",
   "mimetype": "text/x-python",
   "name": "python",
   "nbconvert_exporter": "python",
   "pygments_lexer": "ipython3",
   "version": "3.11.7"
  }
 },
 "nbformat": 4,
 "nbformat_minor": 5
}
